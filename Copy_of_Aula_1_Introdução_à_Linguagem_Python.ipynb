{
  "cells": [
    {
      "cell_type": "markdown",
      "metadata": {
        "id": "view-in-github",
        "colab_type": "text"
      },
      "source": [
        "<a href=\"https://colab.research.google.com/github/mpazmarcato/CPPCourse/blob/main/Copy_of_Aula_1_Introdu%C3%A7%C3%A3o_%C3%A0_Linguagem_Python.ipynb\" target=\"_parent\"><img src=\"https://colab.research.google.com/assets/colab-badge.svg\" alt=\"Open In Colab\"/></a>"
      ]
    },
    {
      "cell_type": "markdown",
      "metadata": {
        "id": "8aBKG2iUWtqa"
      },
      "source": [
        "# Aula 1- Introdução à Linguagem Python\n",
        "\n",
        "Objetivo: apresentação das funcionalidades básicas da linguagem Python\n",
        "\n",
        "\n",
        "Conteúdo:\n",
        "- Entrada e saída de dados\n",
        "- Variáveis básicas"
      ]
    },
    {
      "cell_type": "markdown",
      "metadata": {
        "id": "8yf95fqwWtqe"
      },
      "source": [
        "Esta é uma introdução aos conceitos básicos de Python. Saiba como usar o Python de forma interativa e através de um script. Crie suas primeiras variáveis e familiarize-se com os tipos básicos de dados do Python."
      ]
    },
    {
      "cell_type": "markdown",
      "metadata": {
        "id": "bvJ3kBLoO0jt"
      },
      "source": [
        "## Entrada e Saída de Dados em Python\n"
      ]
    },
    {
      "cell_type": "code",
      "execution_count": null,
      "metadata": {
        "id": "93GQJAx1Wtqg",
        "outputId": "f154bedf-30b1-4f51-84c2-65d736f5235d",
        "colab": {
          "base_uri": "https://localhost:8080/"
        }
      },
      "outputs": [
        {
          "output_type": "stream",
          "name": "stdout",
          "text": [
            "Alô, mundo!\n"
          ]
        }
      ],
      "source": [
        "# Comentário em Python\n",
        "# Imprimir mensagem em Python\n",
        "print(\"Alô, mundo!\")"
      ]
    },
    {
      "cell_type": "code",
      "execution_count": null,
      "metadata": {
        "colab": {
          "base_uri": "https://localhost:8080/"
        },
        "id": "aBytQrmlFdRZ",
        "outputId": "c50031b3-28af-4651-e661-88d07ef13721"
      },
      "outputs": [
        {
          "output_type": "stream",
          "name": "stdout",
          "text": [
            "Quem é esta aluna que acabou de chegar?\n",
            "É a Carol.\n"
          ]
        }
      ],
      "source": [
        "print(\"Quem é esta aluna que acabou de chegar?\")\n",
        "print(\"É a Carol.\")"
      ]
    },
    {
      "cell_type": "code",
      "execution_count": null,
      "metadata": {
        "id": "kugXUPx-PYP-",
        "outputId": "bc114e37-d011-4da0-e368-27d56ecdfee1",
        "colab": {
          "base_uri": "https://localhost:8080/"
        }
      },
      "outputs": [
        {
          "output_type": "stream",
          "name": "stdout",
          "text": [
            "Qual é o seu nome? \n",
            "Carol\n",
            "Olá Carol, tudo bem?\n"
          ]
        }
      ],
      "source": [
        "print(\"Qual é o seu nome? \")\n",
        "nome = input()\n",
        "print(\"Olá \" + nome + \", tudo bem?\")"
      ]
    },
    {
      "cell_type": "markdown",
      "metadata": {
        "id": "xNas9M98P0AK"
      },
      "source": [
        "### Crie um programa que:\n",
        "- Pegunte o nome da pessoa e sua profissão.\n",
        "\n",
        "- Responda com uma mensagem positiva.\n",
        "\n",
        "Exemplo: João, a profissão de Professor é muito importante"
      ]
    },
    {
      "cell_type": "code",
      "execution_count": null,
      "metadata": {
        "colab": {
          "background_save": true,
          "base_uri": "https://localhost:8080/"
        },
        "id": "GFpO_KPVQiBa",
        "outputId": "3b1dcf59-5f51-45ed-af68-4b760fbe9a49"
      },
      "outputs": [
        {
          "name": "stdout",
          "output_type": "stream",
          "text": [
            "Qual é o seu nome?\n",
            "La\n",
            "Qual é a sua profissão?\n",
            "La\n",
            "La, a tua profissão de La é muito importante\n"
          ]
        }
      ],
      "source": [
        "# Escreva o codigo aqui:\n",
        "\n",
        "print(\"Qual é o seu nome?\")\n",
        "nome = input()\n",
        "print(\"Qual é a sua profissão?\")\n",
        "profissao = input()\n",
        "print(nome + \", a tua profissão de \" + profissao + \" é muito importante\")\n",
        "\n",
        "\n"
      ]
    },
    {
      "cell_type": "markdown",
      "metadata": {
        "id": "nJZUVSz1rarN"
      },
      "source": [
        "### Exercício 01:\n",
        " Escreva um programa baseado na anterior que pergunte o nome e sobrenome do usário, além do seu hobby. Então responda com um comentário positivo."
      ]
    },
    {
      "cell_type": "code",
      "execution_count": null,
      "metadata": {
        "id": "wRKYoOmUIyIg"
      },
      "outputs": [],
      "source": [
        "# Exercício 01 - Escreva o código aqui\n",
        "\n"
      ]
    },
    {
      "cell_type": "markdown",
      "metadata": {
        "id": "DzNprIBE61XA"
      },
      "source": [
        "### Usando Python como uma calculadora\n",
        "- Basta escrever as operações."
      ]
    },
    {
      "cell_type": "code",
      "execution_count": null,
      "metadata": {
        "id": "XzbL-SxpWtqw",
        "outputId": "6d5ab00b-b511-42ad-ff94-6e1f1aafa995"
      },
      "outputs": [
        {
          "data": {
            "text/plain": [
              "2"
            ]
          },
          "execution_count": 8,
          "metadata": {},
          "output_type": "execute_result"
        }
      ],
      "source": [
        "a = 2\n",
        "a"
      ]
    },
    {
      "cell_type": "code",
      "execution_count": null,
      "metadata": {
        "id": "WaR81ydLWtq8",
        "outputId": "f3c1ef44-64a6-4f17-8add-a56d40f325e8"
      },
      "outputs": [
        {
          "data": {
            "text/plain": [
              "0.6666666666666666"
            ]
          },
          "execution_count": 9,
          "metadata": {},
          "output_type": "execute_result"
        }
      ],
      "source": [
        "a = 2/3\n",
        "a"
      ]
    },
    {
      "cell_type": "code",
      "execution_count": null,
      "metadata": {
        "id": "Ejy6y0OF7FYh",
        "outputId": "a7ce08a3-fc1c-459f-a80a-89b8b7488499"
      },
      "outputs": [
        {
          "name": "stdout",
          "output_type": "stream",
          "text": [
            "0.625\n",
            "15\n",
            "17\n"
          ]
        },
        {
          "data": {
            "text/plain": [
              "3"
            ]
          },
          "execution_count": 10,
          "metadata": {},
          "output_type": "execute_result"
        }
      ],
      "source": [
        "print(5 / 8)\n",
        "print(3 * 5)\n",
        "print(7 + 10)\n",
        "5 -2"
      ]
    },
    {
      "cell_type": "code",
      "execution_count": null,
      "metadata": {
        "id": "oVKopYtSKLus",
        "outputId": "ce6c9650-db3f-49cb-c433-895b5c27cc0b"
      },
      "outputs": [
        {
          "data": {
            "text/plain": [
              "1.0"
            ]
          },
          "execution_count": 11,
          "metadata": {},
          "output_type": "execute_result"
        }
      ],
      "source": [
        "(4+2*2)/8"
      ]
    },
    {
      "cell_type": "markdown",
      "metadata": {
        "id": "vARjMusYWtrC"
      },
      "source": [
        "## Operadores Lógicos:\n",
        "    - AND --> &  and\n",
        "    - OR --> | or\n",
        "    - NOT"
      ]
    },
    {
      "cell_type": "code",
      "execution_count": null,
      "metadata": {
        "id": "z9D_eKS1WtrE",
        "outputId": "c634b5a0-5718-4091-bfd5-0ee9639d8f72"
      },
      "outputs": [
        {
          "name": "stdout",
          "output_type": "stream",
          "text": [
            "False\n",
            "False\n",
            "True\n",
            "True\n",
            "False\n"
          ]
        }
      ],
      "source": [
        "# Exemplo de uso de operadores lógicos\n",
        "\n",
        "a = True\n",
        "b = False\n",
        "print(a and b)\n",
        "print (a & b)\n",
        "print (a or b)\n",
        "print (a | b)\n",
        "print(not a)"
      ]
    },
    {
      "cell_type": "code",
      "execution_count": null,
      "metadata": {
        "id": "0PJytMztLiRI",
        "outputId": "33dfbfd6-5c1b-4fc9-e26e-9d6d6e4d9ac1"
      },
      "outputs": [
        {
          "name": "stdout",
          "output_type": "stream",
          "text": [
            "True\n",
            "False\n",
            "False\n",
            "False\n"
          ]
        }
      ],
      "source": [
        "# Outro exemplo\n",
        "print(True and True)\n",
        "print(True and False)\n",
        "print(False and True)\n",
        "print(False and False)\n"
      ]
    },
    {
      "cell_type": "code",
      "execution_count": null,
      "metadata": {
        "id": "wCFd8ht2Nc-R",
        "outputId": "df776ca8-3938-4d33-a7f7-51fc2470b708"
      },
      "outputs": [
        {
          "name": "stdout",
          "output_type": "stream",
          "text": [
            "True\n",
            "True\n",
            "True\n",
            "False\n"
          ]
        }
      ],
      "source": [
        "# Outro exemplo\n",
        "print(True or True)\n",
        "print(True or False)\n",
        "print(False or True)\n",
        "print(False or False)"
      ]
    },
    {
      "cell_type": "code",
      "execution_count": null,
      "metadata": {
        "id": "FYgNHwpHN8Gy",
        "outputId": "007f028e-69fb-4b58-aeb9-2d781efe8ba0"
      },
      "outputs": [
        {
          "name": "stdout",
          "output_type": "stream",
          "text": [
            "False\n",
            "True\n",
            "False\n",
            "True\n",
            "False\n",
            "True\n"
          ]
        }
      ],
      "source": [
        "print(not True)\n",
        "print( not False)\n",
        "print(not not False)\n",
        "print(not not not False)\n",
        "print(not not not not False)\n",
        "print(not not not not not False)"
      ]
    },
    {
      "cell_type": "code",
      "execution_count": null,
      "metadata": {
        "id": "YuxDw9zPPaKW",
        "outputId": "7c119e43-547b-4256-9e7a-0cff8847533e"
      },
      "outputs": [
        {
          "name": "stdout",
          "output_type": "stream",
          "text": [
            "True\n"
          ]
        }
      ],
      "source": [
        "a= True\n",
        "b = False\n",
        "c = True\n",
        "\n",
        "resposta = (a or b) and c\n",
        "print(resposta)"
      ]
    },
    {
      "cell_type": "code",
      "execution_count": null,
      "metadata": {
        "id": "AgzcLPIVQn7k",
        "outputId": "54c82bf1-95bf-4124-ce5c-d1817562b339"
      },
      "outputs": [
        {
          "name": "stdout",
          "output_type": "stream",
          "text": [
            "True\n"
          ]
        }
      ],
      "source": [
        "# Desafio\n",
        "a= True\n",
        "b = False\n",
        "c = True\n",
        "d= True\n",
        "e = True\n",
        "resposta = (a or b) and ((c and d) or e)\n",
        "print(resposta)\n"
      ]
    },
    {
      "cell_type": "code",
      "execution_count": null,
      "metadata": {
        "id": "eQaY6GhzBnMN",
        "outputId": "89c53639-f4a4-474f-88a7-d124fdc07595"
      },
      "outputs": [
        {
          "name": "stdout",
          "output_type": "stream",
          "text": [
            "João é um namorado ideal?\n",
            "Resposta:  False\n",
            "João é um namorado possível?\n",
            "Resposta:  True\n"
          ]
        }
      ],
      "source": [
        "# Exemplo de uso de operadores lógicos\n",
        "# Escolha do namorado(a) ideal\n",
        "\n",
        "nome = \"João\"\n",
        "# nome = \"Maria\"\n",
        "alto = True\n",
        "bonito = True\n",
        "malhado = True\n",
        "rico = True\n",
        "divertido = True\n",
        "careca = True\n",
        "\n",
        "namorado_ideal = alto and bonito and malhado and rico and divertido and not careca\n",
        "\n",
        "print(nome, \"é um namorado ideal?\")\n",
        "print(\"Resposta: \", namorado_ideal)\n",
        "\n",
        "# construa a sua lógica de namorado(a) possível\n",
        "\n",
        "namorado_possivel = rico\n",
        "print(nome, \"é um namorado possível?\")\n",
        "print(\"Resposta: \", namorado_possivel)"
      ]
    },
    {
      "cell_type": "code",
      "execution_count": null,
      "metadata": {
        "id": "TIvAFDAzWtrM",
        "outputId": "52bf7bbe-3709-4b82-8cd1-113089691061"
      },
      "outputs": [
        {
          "name": "stdout",
          "output_type": "stream",
          "text": [
            "a = 10 b = 20\n",
            "Alô, mundo Estou estudando Python tenho 24 anos\n"
          ]
        }
      ],
      "source": [
        "# Exemplo de uso do print - outra maneira\n",
        "print (\"a = %d b = %d\" % (10 ,20))\n",
        "print(\"Alô, mundo\", \"Estou estudando Python\", \"tenho\", 24, \"anos\")"
      ]
    },
    {
      "cell_type": "markdown",
      "metadata": {
        "id": "lg0_6RP0WtrU"
      },
      "source": [
        "O Python é perfeitamente adequado para fazer cálculos básicos. Além da adição, subtração, multiplicação e divisão, também há suporte para operações mais avançadas, tais como:\n",
        "- Exponenciação: **.\n",
        "   - Este operador eleva o número à esquerda para o poder do número à sua direita. Por exemplo, 4 ** 2 dará 16.\n",
        "- Modulo:%. Este operador retorna o restante da divisão do número à esquerda pelo número à direita. Por exemplo, 18% 7 é igual a 4.\n",
        "- Divisão inteira: //\n",
        "   - 3/2, dará 1."
      ]
    },
    {
      "cell_type": "code",
      "execution_count": null,
      "metadata": {
        "id": "FW1j-ixcWtrW",
        "outputId": "f54bc024-b5fa-4767-d2be-f10012119d81"
      },
      "outputs": [
        {
          "name": "stdout",
          "output_type": "stream",
          "text": [
            "16\n",
            "5\n",
            "0\n"
          ]
        }
      ],
      "source": [
        "# Exemplo de uso da Exponenciação\n",
        "print(4 ** 2)\n",
        "\n",
        "# Exemplo de Divisão Inteira\n",
        "print((19+1) // 4)\n",
        "\n",
        "# Exemplo de resto da divisão\n",
        "print((19+1) % 4)\n",
        "\n"
      ]
    },
    {
      "cell_type": "code",
      "execution_count": null,
      "metadata": {
        "id": "EWG-R2vGWtrf",
        "outputId": "61faf0d1-0bf0-42cb-e56c-d3c89130a099"
      },
      "outputs": [
        {
          "name": "stdout",
          "output_type": "stream",
          "text": [
            "Se você tomou um empréstimo de R$1.000,00 com taxa de juros de 20% ao ano, após 04 anos qual é o valor de sua dívida?\n",
            "Minha dívida é de  2073.6 reais, depois de  4 anos.\n"
          ]
        }
      ],
      "source": [
        "# Exemplo de uso de operadores\n",
        "print(\"Se você tomou um empréstimo de R$1.000,00 com taxa de juros de 20% ao ano, após 04 anos qual é o valor de sua dívida?\")\n",
        "emprestimo = 1000.0\n",
        "taxa = 0.2\n",
        "anos = 4\n",
        "divida = emprestimo *(1+taxa)**anos\n",
        "print(\"Minha dívida é de \", divida, \"reais, depois de \", anos,\"anos.\" )\n"
      ]
    },
    {
      "cell_type": "code",
      "execution_count": null,
      "metadata": {
        "id": "DxKTSL1yWtrt",
        "outputId": "3b356776-6742-4563-b145-89e281f358fd"
      },
      "outputs": [
        {
          "name": "stdout",
          "output_type": "stream",
          "text": [
            "1500\n"
          ]
        }
      ],
      "source": [
        "# Exercício 02: escreva o código aqui\n",
        "# O aluno João Medeiros, aplicou R$2.0000,00 na bolsa de valores durante 03 anos.\n",
        "# No primeiro ano ele teve um lucro de 20%.\n",
        "# No segundo ano ele teve um prejuízo de 8%\n",
        "# No terceiro ano ele teve um lucro de 4%\n",
        "# Calcule o valor em reais que ele obteve no final do terceiro ano.\n",
        "\n",
        "valor_inicial = 2000\n",
        "valor_ano1 =\n",
        "valor_ano2 =\n",
        "valor_ano3 =\n",
        "lucro = valor_ano3 - valor_inicial\n",
        "print(lucro)"
      ]
    },
    {
      "cell_type": "markdown",
      "metadata": {
        "id": "rHFpj7jGWtr1"
      },
      "source": [
        "## Variáveis e Tipos em Python\n",
        "- Em Python, uma variável permite que você se refira a um valor com um nome. Para atribuir um valor a  uma variável use =, como este exemplo:\n",
        "\n",
        "x = 5\n",
        "\n",
        "Agora você pode usar o nome dessa variável, x, em vez do valor real, 5.\n",
        "\n",
        "Lembre-se, = em Python significa atribuição, não igualdade!"
      ]
    },
    {
      "cell_type": "code",
      "execution_count": null,
      "metadata": {
        "id": "_f7iSQckWtr2",
        "outputId": "5fd05abf-04e4-4e2e-d660-e32f089c15f1"
      },
      "outputs": [
        {
          "name": "stdout",
          "output_type": "stream",
          "text": [
            "5\n",
            "3\n"
          ]
        }
      ],
      "source": [
        "x=5\n",
        "print(x)\n",
        "y = 3\n",
        "print(y)\n"
      ]
    },
    {
      "cell_type": "code",
      "execution_count": null,
      "metadata": {
        "id": "aalFUTUIWtsA",
        "outputId": "b2d5b354-41b7-4ce7-e067-0a7c4edc992b"
      },
      "outputs": [
        {
          "name": "stdout",
          "output_type": "stream",
          "text": [
            "5\n",
            "10\n",
            "\t 10 \n",
            " \n",
            " 11 \n",
            " 12 \n",
            " 13\n"
          ]
        }
      ],
      "source": [
        "x = 5\n",
        "print(x)\n",
        "X = 10\n",
        "print(X)\n",
        "valor = 10\n",
        "Valor = 11\n",
        "vAlor = 12\n",
        "VALOR = 13\n",
        "print(\"\\t\", valor,\"\\n\", \"\\n\",Valor, \"\\n\",vAlor, \"\\n\", VALOR)\n"
      ]
    },
    {
      "cell_type": "code",
      "execution_count": null,
      "metadata": {
        "id": "SxEz4XMtWtsH",
        "outputId": "b435ae47-08d8-4533-e902-ca3845f9bb5e"
      },
      "outputs": [
        {
          "name": "stdout",
          "output_type": "stream",
          "text": [
            "False\n"
          ]
        }
      ],
      "source": [
        "# Diferença entre atribuição e comparação\n",
        "x = 6 +1\n",
        "print( x == 6)\n",
        "\n"
      ]
    },
    {
      "cell_type": "code",
      "execution_count": null,
      "metadata": {
        "id": "LWDgI7rvWtsL",
        "outputId": "8bdfd345-2872-4d07-df4a-093dbbb02a1a"
      },
      "outputs": [
        {
          "name": "stdout",
          "output_type": "stream",
          "text": [
            "Python diferencia entre letras maiúsculas e minúsculas?\n",
            "Qual é o valor da variável x?\n",
            "A variável x é igual a  1\n",
            "Qual é o valor da variável X?\n",
            "A variável X é igual a  2\n"
          ]
        }
      ],
      "source": [
        "#Exemplo - Diferença entre maiúsculo e minúsculo\n",
        "x = 1\n",
        "X = 2\n",
        "\n",
        "print(\"Python diferencia entre letras maiúsculas e minúsculas?\")\n",
        "print(\"Qual é o valor da variável x?\")\n",
        "print(\"A variável x é igual a \", x)\n",
        "print(\"Qual é o valor da variável X?\")\n",
        "print(\"A variável X é igual a \", X)"
      ]
    },
    {
      "cell_type": "code",
      "execution_count": null,
      "metadata": {
        "id": "n7IuseK8WtsT",
        "outputId": "20177cc3-0023-4104-fc90-6bd1e2ac4851"
      },
      "outputs": [
        {
          "ename": "SyntaxError",
          "evalue": "invalid syntax (2068126882.py, line 3)",
          "output_type": "error",
          "traceback": [
            "\u001b[1;36m  Cell \u001b[1;32mIn[35], line 3\u001b[1;36m\u001b[0m\n\u001b[1;33m    valor =\u001b[0m\n\u001b[1;37m            ^\u001b[0m\n\u001b[1;31mSyntaxError\u001b[0m\u001b[1;31m:\u001b[0m invalid syntax\n"
          ]
        }
      ],
      "source": [
        "# Exercício 03\n",
        "print(\"Reescreva o Exercício 02 utilizando variáveis\")\n",
        "valor =\n",
        "taxa_juros =\n",
        "anos =\n",
        "dívida =\n",
        "print(divida)"
      ]
    },
    {
      "cell_type": "code",
      "execution_count": null,
      "metadata": {
        "id": "PWxgWvwhWtsa",
        "outputId": "ae0fdfc0-3b68-4951-c0f8-b062a20e7825"
      },
      "outputs": [
        {
          "ename": "IndentationError",
          "evalue": "unexpected indent (3686656228.py, line 7)",
          "output_type": "error",
          "traceback": [
            "\u001b[1;36m  Cell \u001b[1;32mIn[37], line 7\u001b[1;36m\u001b[0m\n\u001b[1;33m    get_ipython().run_line_magic('pinfo2', '?')\u001b[0m\n\u001b[1;37m    ^\u001b[0m\n\u001b[1;31mIndentationError\u001b[0m\u001b[1;31m:\u001b[0m unexpected indent\n"
          ]
        }
      ],
      "source": [
        "# Exercício 04\n",
        "# Verifique a fómula do IMC na Internet\n",
        "\n",
        "print(\"Calcule o Índice de Massa Copórea (IMC)\")\n",
        "\n",
        "# Entre com o valor do pese do usuário\n",
        " ???\n",
        "\n",
        "# Entre com o valor da altura em metros do usuário\n",
        "\n",
        "???\n",
        "\n",
        "# cálculo do IMC\n",
        "IMC = ????\n",
        "\n",
        "print(\"O Seu IMC é: \" + IMC)"
      ]
    },
    {
      "cell_type": "markdown",
      "metadata": {
        "id": "CEuO14piWtsi"
      },
      "source": [
        "### Tipos de vaiáveis em Python\n",
        "\n",
        "Os tipos das variáveis são definidos dinamicamente em Python.\n",
        "- Tipos Básicos em Python\n",
        "    - int --> Inteiro\n",
        "    - flot --> ponto flutuante\n",
        "    - str --> String\n",
        "    - bool --> Booleano (True, False)"
      ]
    },
    {
      "cell_type": "code",
      "execution_count": null,
      "metadata": {
        "id": "se2Qt05GWtsj",
        "outputId": "ad1329cc-3923-42ff-edc0-45382b2154ca"
      },
      "outputs": [
        {
          "name": "stdout",
          "output_type": "stream",
          "text": [
            "Escreva no console os valores dessas variáveis\n",
            "A aluna  Isabel da Silva  tem  21 de idade e tirou  9.8 em programação Python.\n",
            "\n"
          ]
        }
      ],
      "source": [
        "# Exercício 05\n",
        "Nome_aluno = \"Isabel da Silva\"\n",
        "nota = 9.8\n",
        "bom_aluno = True\n",
        "idade = 21\n",
        "\n",
        "print(\"Escreva no console os valores dessas variáveis\")\n",
        "# escreva o restante do programa ....\n",
        "\n",
        "print(\"A aluna \", Nome_aluno,\" tem \", idade,\"de idade e tirou \", nota, \"em programação Python.\\n\")\n"
      ]
    },
    {
      "cell_type": "code",
      "execution_count": null,
      "metadata": {
        "id": "5g5mu0KRWtss",
        "outputId": "8bc9a3ff-4229-44ed-bb33-92ab15c93076"
      },
      "outputs": [
        {
          "name": "stdout",
          "output_type": "stream",
          "text": [
            "O que ocorre se se somar um int com um float?\n",
            "3.1\n"
          ]
        }
      ],
      "source": [
        "# Exercício 06\n",
        "# Analise a resposta desse programa e tire suas conclusões\n",
        "print(\"O que ocorre se se somar um int com um float?\")\n",
        "a = 2\n",
        "b = 1.1\n",
        "c = a+b\n",
        "print(c)"
      ]
    },
    {
      "cell_type": "code",
      "execution_count": null,
      "metadata": {
        "id": "VYyS1Tm5Wts8",
        "outputId": "8e4af729-3082-49ed-eb51-9fee89350ed1"
      },
      "outputs": [
        {
          "name": "stdout",
          "output_type": "stream",
          "text": [
            "O que ocorre se se somar duas strings?\n",
            "Nathalie Rose Araújo\n"
          ]
        },
        {
          "data": {
            "text/plain": [
              "'Nathalie Rose Araújo'"
            ]
          },
          "execution_count": 40,
          "metadata": {},
          "output_type": "execute_result"
        }
      ],
      "source": [
        "# Exercício 07\n",
        "# Analise a resposta desse programa e tire suas conclusões\n",
        "print(\"O que ocorre se se somar duas strings?\")\n",
        "Nome = \"Nathalie\" + \" \" + \"Rose\"\n",
        "Sobrenome = \"Araújo\"\n",
        "Nome_Completo = Nome + \" \" + Sobrenome\n",
        "print(Nome_Completo)\n",
        "Nome_Completo"
      ]
    },
    {
      "cell_type": "code",
      "execution_count": null,
      "metadata": {
        "id": "vTpPpFk2WttP",
        "outputId": "ed9c954f-d522-4e04-e9fb-eb79c9ba2894"
      },
      "outputs": [
        {
          "name": "stdout",
          "output_type": "stream",
          "text": [
            "<class 'int'>\n",
            "<class 'str'>\n"
          ]
        },
        {
          "data": {
            "text/plain": [
              "bool"
            ]
          },
          "execution_count": 43,
          "metadata": {},
          "output_type": "execute_result"
        }
      ],
      "source": [
        "# Exercício 09\n",
        "# Use a função type(variavel) para obter o tipo da variável.\n",
        "x1 = 1\n",
        "x2 = \"aeiou\"\n",
        "x3 = False\n",
        "print(type(x1))\n",
        "print(type(x2))\n",
        "type(x3)"
      ]
    },
    {
      "cell_type": "markdown",
      "metadata": {
        "id": "F7KSKwVVWtta"
      },
      "source": [
        "### Dica:\n",
        "Para se converter tipos em outros, em Python se utiliza as seguintes funções:\n",
        "- str(variavel) <-- converte variavel para string\n",
        "- int(variavel) <-- converte variavel para inteiro\n",
        "- float(variavel) <-- converte variavel para ponto flutuante\n",
        "- bool((variavel) <-- converte variavel para booleano"
      ]
    },
    {
      "cell_type": "code",
      "execution_count": null,
      "metadata": {
        "id": "LH3BBBMdWttc",
        "outputId": "cb7e7252-38ad-4366-eff0-20f0bea0c967"
      },
      "outputs": [
        {
          "name": "stdout",
          "output_type": "stream",
          "text": [
            "\n"
          ]
        }
      ],
      "source": [
        "# Exercício 10\n",
        "# Escreva um programa que converta uma variável \"idade\" que é inteiro  em string.\n",
        "Idade = 22\n",
        "Nome = \"João \"\n",
        "# A saída de ser --> João tem 22 anos.\n",
        "print()"
      ]
    },
    {
      "cell_type": "markdown",
      "metadata": {
        "id": "7uBNZr89pBxb"
      },
      "source": [
        "### Pergunta:\n",
        "Quando se lê uma variável via teclado, qual é o seu tipo?"
      ]
    },
    {
      "cell_type": "code",
      "execution_count": null,
      "metadata": {
        "id": "MV22YSjWpLR2",
        "outputId": "066dd38d-6e96-4c6b-bf3b-58a3ba742a8b"
      },
      "outputs": [
        {
          "name": "stdout",
          "output_type": "stream",
          "text": [
            "entre com uma dado: \n",
            "7\n",
            "7\n"
          ]
        },
        {
          "data": {
            "text/plain": [
              "str"
            ]
          },
          "execution_count": 46,
          "metadata": {},
          "output_type": "execute_result"
        }
      ],
      "source": [
        "# Exemplo\n",
        "# Analise a resposta desse programa e tire suas conclusões\n",
        "\n",
        "print(\"entre com uma dado: \")\n",
        "variavel = input()\n",
        "print(variavel)\n",
        "type(variavel)\n"
      ]
    },
    {
      "cell_type": "code",
      "execution_count": null,
      "metadata": {
        "id": "_GWuMoAnpuNv",
        "outputId": "7341833d-a03c-4ea7-aef2-c713446783aa"
      },
      "outputs": [
        {
          "data": {
            "text/plain": [
              "int"
            ]
          },
          "execution_count": 47,
          "metadata": {},
          "output_type": "execute_result"
        }
      ],
      "source": [
        "# convertendo a variavel para inteiro\n",
        "\n",
        "variavel = int(variavel)\n",
        "type(variavel)"
      ]
    },
    {
      "cell_type": "markdown",
      "metadata": {
        "id": "kdovl8_vRD8g"
      },
      "source": [
        "### Programa desafio 1:\n",
        "\n",
        "Escreva um programa que solicite por antrada de teclado os seguintes valores de variáveis:\n",
        "- nome\n",
        "- altura\n",
        "-peso\n",
        "\n",
        "Entao, forneça como saída o nome e o IMC correspondente.\n",
        "\n",
        "Exemplo:\n",
        "Maria seu IMC é de 1.62"
      ]
    },
    {
      "cell_type": "code",
      "execution_count": null,
      "metadata": {
        "id": "yVSqPbw7RqG4",
        "outputId": "7e733dfc-180b-4cc3-fbcf-d2054ee14f82"
      },
      "outputs": [
        {
          "ename": "SyntaxError",
          "evalue": "invalid syntax (1712108121.py, line 5)",
          "output_type": "error",
          "traceback": [
            "\u001b[1;36m  Cell \u001b[1;32mIn[48], line 5\u001b[1;36m\u001b[0m\n\u001b[1;33m    nome = ????\u001b[0m\n\u001b[1;37m           ^\u001b[0m\n\u001b[1;31mSyntaxError\u001b[0m\u001b[1;31m:\u001b[0m invalid syntax\n"
          ]
        }
      ],
      "source": [
        "# Programa Desafio 1\n",
        "# Escreva o código aqui código\n",
        "\n",
        "print(\"Por obséquio, forneça o seu nome? \")\n",
        "nome = ????\n",
        "\n",
        "print(\"Se não for inoportuno, foneça o seu peso? Prometo menter essa informação em sigilo\")\n",
        "peso = ???\n",
        "\n",
        "\n",
        "print(\"Qual é a sua altura? \")\n",
        "altura = ???\n",
        "\n",
        "# Cálculo do IMC\n",
        "IMC = peso /altura**2\n",
        "\n",
        "# Saída do programa\n",
        "print(nome, \" o seu IMC é \", IMC)\n",
        "\n"
      ]
    },
    {
      "cell_type": "code",
      "execution_count": null,
      "metadata": {
        "id": "BxJ7uWykWtth",
        "outputId": "eeca1f6d-5862-4dd7-96c9-e568972e5712"
      },
      "outputs": [
        {
          "data": {
            "text/plain": [
              "'Eu sou gagagago'"
            ]
          },
          "execution_count": 49,
          "metadata": {},
          "output_type": "execute_result"
        }
      ],
      "source": [
        "# Curiosidade - execute este programa\n",
        "\"Eu sou \" + (\"ga\")*3 + \"go\"\n"
      ]
    },
    {
      "cell_type": "code",
      "execution_count": null,
      "metadata": {
        "id": "lwvGuxSsWttn",
        "outputId": "e72ad132-746c-4b17-fa3b-f1f8d56872bf"
      },
      "outputs": [
        {
          "name": "stdout",
          "output_type": "stream",
          "text": [
            "Teste essas opções abaixo que estão em comentário\n"
          ]
        },
        {
          "data": {
            "text/plain": [
              "10"
            ]
          },
          "execution_count": 50,
          "metadata": {},
          "output_type": "execute_result"
        }
      ],
      "source": [
        "# Curiosidade\n",
        "print(\"Teste essas opções abaixo que estão em comentário\")\n",
        "#False + True\n",
        "#True + True\n",
        "True * 10\n",
        "#False - True"
      ]
    },
    {
      "cell_type": "markdown",
      "metadata": {
        "id": "ewO5jUBzWtts"
      },
      "source": [
        "### Variável do tipo list\n",
        "- tipo complexo, que representa uma lista de outras variáveis, não necessariamente de mesmo tipo.\n",
        "- As variáveis podem ser listas. No caso, teremos listas de listas\n",
        "\n",
        "Exemplo:\n",
        "\n",
        "lista1 = [1,2,3]\n",
        "\n",
        "lista2 = [\"Maria\", \"1.66\", 22, True]  #[Nome, Altura, Idade, Boa_estudante]"
      ]
    },
    {
      "cell_type": "code",
      "execution_count": null,
      "metadata": {
        "id": "DZsgCGWPB0UI",
        "outputId": "b5d1441a-cd94-43b3-ea7d-655889554eb9"
      },
      "outputs": [
        {
          "data": {
            "text/plain": [
              "['Maria', '1.66', 22, True]"
            ]
          },
          "execution_count": 51,
          "metadata": {},
          "output_type": "execute_result"
        }
      ],
      "source": [
        "lista2 = [\"Maria\", \"1.66\", 22, True]\n",
        "lista2"
      ]
    },
    {
      "cell_type": "code",
      "execution_count": null,
      "metadata": {
        "colab": {
          "base_uri": "https://localhost:8080/"
        },
        "id": "_A9medfmWttt",
        "outputId": "957e6d87-d558-4097-b5e7-98052951e043"
      },
      "outputs": [
        {
          "name": "stdout",
          "output_type": "stream",
          "text": [
            "<class 'list'>\n",
            "[11.25, 18.0, 20.0, 10.75, 9.5]\n"
          ]
        }
      ],
      "source": [
        "# Lista com variáveis de mesmo tipo\n",
        "# Áreas dos cômodos de uma casa (em metros quadrados)\n",
        "hall = 11.25\n",
        "kit = 18.0\n",
        "liv = 20.0\n",
        "bed = 10.75\n",
        "bath = 9.50\n",
        "\n",
        "# Criação da lista areas\n",
        "areas = [hall, kit, liv, bed, bath]\n",
        "\n",
        "# Print areas\n",
        "print(type(areas))\n",
        "print(areas)"
      ]
    },
    {
      "cell_type": "code",
      "execution_count": null,
      "metadata": {
        "colab": {
          "base_uri": "https://localhost:8080/"
        },
        "id": "3BrTc6sZWttz",
        "outputId": "12cf0bd7-a225-4df0-9b72-4c7525e4a2c9"
      },
      "outputs": [
        {
          "name": "stdout",
          "output_type": "stream",
          "text": [
            "['hallway', 11.25, 'kitchen', 18.0, 'living room', 20.0, 'bedroom', 10.75, 'bathroom', 9.5]\n"
          ]
        }
      ],
      "source": [
        "# Lista com variáveis de diferentes tipos\n",
        "# Áreas dos cômodos de uma casa (em metros quadrados)\n",
        "hall = 11.25\n",
        "kit = 18.0\n",
        "liv = 20.0\n",
        "bed = 10.75\n",
        "bath = 9.50\n",
        "\n",
        "# Criação da lista areas\n",
        "areas = [\"hallway\", hall, \"kitchen\", kit, \"living room\", liv, \"bedroom\", bed, \"bathroom\", bath]\n",
        "\n",
        "# Print areas\n",
        "print(areas)\n"
      ]
    },
    {
      "cell_type": "code",
      "execution_count": null,
      "metadata": {
        "colab": {
          "base_uri": "https://localhost:8080/"
        },
        "id": "VXNk5gNsWtt7",
        "outputId": "4e0fa322-a859-4789-881d-eaf940d94d3d"
      },
      "outputs": [
        {
          "name": "stdout",
          "output_type": "stream",
          "text": [
            "[['hallway', 11.25], ['kitchen', 18.0], ['living room', 20.0], ['bedroom', 10.75], ['bathroom', 9.5]]\n",
            "<class 'list'>\n"
          ]
        }
      ],
      "source": [
        "# Lista de Lista\n",
        "# Áreas dos cômodos de uma casa (em metro quadrado)\n",
        "hall = 11.25\n",
        "kit = 18.0\n",
        "liv = 20.0\n",
        "bed = 10.75\n",
        "bath = 9.50\n",
        "\n",
        "# informação sobre metragem da casa como lista de lista\n",
        "house = [[\"hallway\", hall],\n",
        "         [\"kitchen\", kit],\n",
        "         [\"living room\", liv],\n",
        "         [\"bedroom\", bed],\n",
        "         [\"bathroom\", bath]\n",
        "         ]\n",
        "\n",
        "# Print a variaável house\n",
        "\n",
        "print(house)\n",
        "\n",
        "# Print o tipo da variável house\n",
        "\n",
        "print(type(house))"
      ]
    },
    {
      "cell_type": "code",
      "execution_count": null,
      "metadata": {
        "id": "IBJ34-nOWtuD",
        "outputId": "723ddc33-94a8-47b3-deb7-95117ae65006"
      },
      "outputs": [
        {
          "ename": "SyntaxError",
          "evalue": "invalid syntax (3636349988.py, line 5)",
          "output_type": "error",
          "traceback": [
            "\u001b[1;36m  Cell \u001b[1;32mIn[55], line 5\u001b[1;36m\u001b[0m\n\u001b[1;33m    Pai = [\"João\", ???????]\u001b[0m\n\u001b[1;37m                   ^\u001b[0m\n\u001b[1;31mSyntaxError\u001b[0m\u001b[1;31m:\u001b[0m invalid syntax\n"
          ]
        }
      ],
      "source": [
        "# Exercício 11\n",
        "# Crie 01 lista Familia, que é composta por 04 listas: Pai, Mae, Filho, Filha.\n",
        "# Essas listas têm as variáveis Nome (str), Idade (int), Peso (float), Altura (float)\n",
        "#sexo (bool) True-feminino, False-Masculino\n",
        "Pai = [\"João\", ]\n",
        "Mae = [\"Maria\",]\n",
        "Filho = [\"William\",]\n",
        "Filha = [\"Fernanda\",]\n",
        "\n",
        "Familia = [Mae, Pai,Filho,Filha]\n",
        "print(Familia)"
      ]
    },
    {
      "cell_type": "markdown",
      "metadata": {
        "id": "d1n1FsUyWtuK"
      },
      "source": [
        "Explicação - Acessado elementos de uma lista\n",
        "- list[n]  --> retorna a variável da posição n. O primeiro índice é o ZERO\n",
        "- list[n1:n2] --> retorna uma sub-lista da posição n1 até a posição n2-1\n",
        "- list[:n] --> retorna uma sub-lista da posição ZERO até n-1\n",
        "- list[n:] --> retorna uma sub-lista da posição n até o final da lista"
      ]
    },
    {
      "cell_type": "code",
      "execution_count": null,
      "metadata": {
        "id": "4f4tiyZfWtuN",
        "outputId": "2764104d-039d-4da3-b044-4fc31047c7ba"
      },
      "outputs": [
        {
          "name": "stdout",
          "output_type": "stream",
          "text": [
            "0\n",
            "2\n",
            "5\n",
            "4\n",
            "[1, 2]\n",
            "[1, 2, 3]\n",
            "[1]\n",
            "[0, 1, 2]\n",
            "[0, 1, 2, 3, 4, 5]\n",
            "[1, 2]\n",
            "[]\n"
          ]
        }
      ],
      "source": [
        "# Exemplos de acesso a elementos de listas\n",
        "# Rode o programa e analise as suas respostas.\n",
        "lista = [0,1,2,3,4,5]\n",
        "print(lista[0])\n",
        "print(lista[2])\n",
        "#print(lista[7])\n",
        "print(lista[-1])\n",
        "print(lista[-2])\n",
        "print(lista[1:3])\n",
        "print(lista[1:4])\n",
        "print(lista[1:2])\n",
        "print(lista[:3])\n",
        "print(lista[:])\n",
        "print(lista[-5:3])\n",
        "print(lista[-5:1])"
      ]
    },
    {
      "cell_type": "code",
      "execution_count": null,
      "metadata": {
        "id": "i9HgHM-9WtuX",
        "outputId": "d8cc4a85-ce78-4fc8-c763-7d82dd88d3e1"
      },
      "outputs": [
        {
          "ename": "SyntaxError",
          "evalue": "invalid syntax (1089403541.py, line 7)",
          "output_type": "error",
          "traceback": [
            "\u001b[1;36m  Cell \u001b[1;32mIn[58], line 7\u001b[1;36m\u001b[0m\n\u001b[1;33m    print(areas[???])\u001b[0m\n\u001b[1;37m                ^\u001b[0m\n\u001b[1;31mSyntaxError\u001b[0m\u001b[1;31m:\u001b[0m invalid syntax\n"
          ]
        }
      ],
      "source": [
        "#Exercício 12\n",
        "\n",
        "# Criação da lista areas\n",
        "areas = [\"hallway\", 11.25, \"kitchen\", 18.0, \"living room\", 20.0, \"bedroom\", 10.75, \"bathroom\", 9.50]\n",
        "\n",
        "# Print o segundo elemento da lista\n",
        "print(areas[???])\n",
        "\n",
        "# Print o valor do último elemnto da lista\n",
        "print(areas[???])\n",
        "\n",
        "# Print o valor da área do living room\n",
        "print(areas[???])\n",
        "\n",
        "# Print o valor da área total da casa\n",
        "print(areas[??]+areas[??]+areas[??])"
      ]
    },
    {
      "cell_type": "code",
      "execution_count": null,
      "metadata": {
        "id": "bIaW7WSbWtud",
        "outputId": "022afed6-f61e-4602-fd81-5176f2477236"
      },
      "outputs": [
        {
          "name": "stdout",
          "output_type": "stream",
          "text": [
            "g\n",
            "['g', 'h']\n",
            "c ['d', 'e']\n"
          ]
        },
        {
          "data": {
            "text/plain": [
              "'cade'"
            ]
          },
          "execution_count": 59,
          "metadata": {},
          "output_type": "execute_result"
        }
      ],
      "source": [
        "# Dica\n",
        "x = [[\"a\", \"b\", \"c\"],\n",
        "     [\"d\", \"e\", \"f\"],\n",
        "     [\"g\", \"h\", \"i\"]]\n",
        "print(x[2][0])\n",
        "print(x[2][:2])\n",
        "print(x[0][-1],x[1][:2])\n",
        "x[0][2]+x[0][0]+x[1][0]+x[1][1]"
      ]
    },
    {
      "cell_type": "code",
      "execution_count": null,
      "metadata": {
        "id": "It25Np4hWtuk",
        "outputId": "129cf976-3f0e-4579-f4ea-27baba9d1a9d"
      },
      "outputs": [
        {
          "ename": "SyntaxError",
          "evalue": "invalid syntax (1306514989.py, line 5)",
          "output_type": "error",
          "traceback": [
            "\u001b[1;36m  Cell \u001b[1;32mIn[60], line 5\u001b[1;36m\u001b[0m\n\u001b[1;33m    nomes =\u001b[0m\n\u001b[1;37m            ^\u001b[0m\n\u001b[1;31mSyntaxError\u001b[0m\u001b[1;31m:\u001b[0m invalid syntax\n"
          ]
        }
      ],
      "source": [
        "#Exercício 13 -\n",
        "# Dado o Exercício 11.\n",
        "# Crie uma lista denominada de Nomes que contenha os nomes do Pai, Mae, Filho e Filha da lista Familia\n",
        "\n",
        "nomes =\n",
        "nomes"
      ]
    },
    {
      "cell_type": "code",
      "execution_count": null,
      "metadata": {
        "id": "qEdJQD1pWtur"
      },
      "outputs": [],
      "source": [
        "#Exercício 14 -\n",
        "# Dado o Exercício 11.\n",
        "# Crie uma lista denominada de Filhos que contenha apenas as informações de Filho e Filha da lista Familia\n"
      ]
    },
    {
      "cell_type": "code",
      "execution_count": null,
      "metadata": {
        "id": "jYzv1ZNRWtux"
      },
      "outputs": [],
      "source": [
        "#Exercício 15 -\n",
        "# Dado o Exercício 11.\n",
        "# Calcule IMC das pessoas da lista Familia.\n",
        "# Armazene esses valores numa lista denominada de valor_IMC\n",
        "#????\n"
      ]
    },
    {
      "cell_type": "markdown",
      "metadata": {
        "id": "0SqbqnesWtvB"
      },
      "source": [
        "Modificar elementos de uma lista\n",
        "- lista[elemento] = novo_valor\n",
        "\n",
        "Incluir elementos em lista (concatenar duas ou mais listas)\n",
        "- lista3 = lista1 + lista3\n",
        "\n",
        "Remover Elementos em Lista\n",
        "- del(lista[elemento])"
      ]
    },
    {
      "cell_type": "code",
      "execution_count": null,
      "metadata": {
        "id": "uCB0VcoYVAhV"
      },
      "outputs": [],
      "source": [
        "# Exemplo com listas\n",
        "lista1 = [1,1,1]\n",
        "lista2 =[2,2,2]\n",
        "lista3 = lista1 + lista2\n",
        "\n"
      ]
    },
    {
      "cell_type": "code",
      "execution_count": null,
      "metadata": {
        "id": "maCwgIELVeC0",
        "outputId": "5e418d40-6654-49aa-9937-0b1b3a5723b3"
      },
      "outputs": [
        {
          "name": "stdout",
          "output_type": "stream",
          "text": [
            "lista3:  [1, 1, 1, 2, 2, 2]\n",
            "lista3[2]:  1\n",
            "lista3:  [1, 1, 2, 2]\n",
            "lista3[2]:  2\n"
          ]
        }
      ],
      "source": [
        "# Exemplo com lista - continuação\n",
        "print(\"lista3: \", lista3)\n",
        "print(\"lista3[2]: \", lista3[2])\n",
        "\n",
        "# remover um elemento da lista3\n",
        "del(lista3[2:4])\n",
        "print(\"lista3: \", lista3)\n",
        "print(\"lista3[2]: \", lista3[2])"
      ]
    },
    {
      "cell_type": "code",
      "execution_count": null,
      "metadata": {
        "id": "bBMdNeavWtvR",
        "outputId": "8f53358a-c5a6-462c-8d91-b48385a7e90e"
      },
      "outputs": [
        {
          "ename": "SyntaxError",
          "evalue": "invalid syntax (2879374387.py, line 7)",
          "output_type": "error",
          "traceback": [
            "\u001b[1;36m  Cell \u001b[1;32mIn[65], line 7\u001b[1;36m\u001b[0m\n\u001b[1;33m    del(areas[???])\u001b[0m\n\u001b[1;37m              ^\u001b[0m\n\u001b[1;31mSyntaxError\u001b[0m\u001b[1;31m:\u001b[0m invalid syntax\n"
          ]
        }
      ],
      "source": [
        "# Exercício 16\n",
        "# Remova pela ordem a string \"poolhouse\" e o valor de sua área\n",
        "areas = [\"hallway\", 11.25, \"kitchen\", 18.0,\n",
        "        \"child zone\", 20.0, \"bedroom\", 10.75,\n",
        "         \"bathroom\", 10.50, \"poolhouse\", 24.5,\n",
        "         \"garage\", 15.45]\n",
        "del(areas[???])\n",
        "#del(areas[10])\n",
        "print(areas)"
      ]
    },
    {
      "cell_type": "code",
      "execution_count": null,
      "metadata": {
        "id": "Yxc9vMtzWtvD",
        "outputId": "cd8da813-fc7e-47f0-a351-2c337bd02d80"
      },
      "outputs": [
        {
          "name": "stdout",
          "output_type": "stream",
          "text": [
            "Object `???` not found.\n"
          ]
        },
        {
          "ename": "NameError",
          "evalue": "name 'Familia' is not defined",
          "output_type": "error",
          "traceback": [
            "\u001b[1;31m---------------------------------------------------------------------------\u001b[0m",
            "\u001b[1;31mNameError\u001b[0m                                 Traceback (most recent call last)",
            "Cell \u001b[1;32mIn[66], line 7\u001b[0m\n\u001b[0;32m      1\u001b[0m \u001b[38;5;66;03m# Exercício 17 \u001b[39;00m\n\u001b[0;32m      2\u001b[0m \u001b[38;5;66;03m# Dado o Exercício 11\u001b[39;00m\n\u001b[0;32m      3\u001b[0m \u001b[38;5;66;03m# Inclua mais um filho, denominado Filho2 na lista Familia\u001b[39;00m\n\u001b[0;32m      5\u001b[0m get_ipython()\u001b[38;5;241m.\u001b[39mrun_line_magic(\u001b[38;5;124m'\u001b[39m\u001b[38;5;124mpinfo2\u001b[39m\u001b[38;5;124m'\u001b[39m, \u001b[38;5;124m'\u001b[39m\u001b[38;5;124m???\u001b[39m\u001b[38;5;124m'\u001b[39m)\n\u001b[1;32m----> 7\u001b[0m \u001b[38;5;28mprint\u001b[39m(Familia)\n",
            "\u001b[1;31mNameError\u001b[0m: name 'Familia' is not defined"
          ]
        }
      ],
      "source": [
        "# Exercício 17\n",
        "# Dado o Exercício 11\n",
        "# Inclua mais um filho, denominado Filho2 na lista Familia\n",
        "\n",
        "?????\n",
        "\n",
        "print(Familia)"
      ]
    },
    {
      "cell_type": "code",
      "execution_count": null,
      "metadata": {
        "id": "z_w1bQqyWtvM",
        "outputId": "c6da30c4-7823-4234-cf16-8cc527669bed"
      },
      "outputs": [
        {
          "ename": "NameError",
          "evalue": "name 'Familia' is not defined",
          "output_type": "error",
          "traceback": [
            "\u001b[1;31m---------------------------------------------------------------------------\u001b[0m",
            "\u001b[1;31mNameError\u001b[0m                                 Traceback (most recent call last)",
            "Cell \u001b[1;32mIn[67], line 6\u001b[0m\n\u001b[0;32m      1\u001b[0m \u001b[38;5;66;03m# Exercício 18 \u001b[39;00m\n\u001b[0;32m      2\u001b[0m \u001b[38;5;66;03m# Dado o Exercício 11\u001b[39;00m\n\u001b[0;32m      3\u001b[0m \u001b[38;5;66;03m# Remova Filho da lista Familia\u001b[39;00m\n\u001b[0;32m      4\u001b[0m \u001b[38;5;66;03m# O que ocorre com os índices da lista Familia?\u001b[39;00m\n\u001b[1;32m----> 6\u001b[0m \u001b[38;5;28mprint\u001b[39m(Familia)\n",
            "\u001b[1;31mNameError\u001b[0m: name 'Familia' is not defined"
          ]
        }
      ],
      "source": [
        "# Exercício 18\n",
        "# Dado o Exercício 11\n",
        "# Remova Filho da lista Familia\n",
        "# O que ocorre com os índices da lista Familia?\n",
        "\n",
        "print(Familia)"
      ]
    },
    {
      "cell_type": "code",
      "execution_count": null,
      "metadata": {
        "id": "sbRECfP2XVwc"
      },
      "outputs": [],
      "source": [
        "#Exercício 19\n",
        "# Dado o Exercício 11.\n",
        "# Calcule IMC das pessoas da lista Familia, e inclua essa informação na lista Família\n",
        "#????"
      ]
    },
    {
      "cell_type": "markdown",
      "metadata": {
        "id": "zxq1iF5pWc3B"
      },
      "source": [
        "### Atenção\n",
        " - Há difença entre atribuição e cópia de listas."
      ]
    },
    {
      "cell_type": "code",
      "execution_count": null,
      "metadata": {
        "id": "-UH1Hy5LWtvb",
        "outputId": "53af0537-540a-45d9-bb86-a1993af34cae"
      },
      "outputs": [
        {
          "name": "stdout",
          "output_type": "stream",
          "text": [
            "[11.25, 18.0, 20.0, 10.75, 9.5]\n"
          ]
        }
      ],
      "source": [
        "# Cópia de lista: diferença entre atribuição e cópia de listas\n",
        "# Criação de lista\n",
        "# Rode a analise os resultados deste programa\n",
        "\n",
        "lista1 = [11.25, 18.0, 20.0, 10.75, 9.50]\n",
        "\n",
        "# Atribuição e copia de listas\n",
        "#lista2 = lista1\n",
        "lista2 = list(lista1)\n",
        "#lista2 = lista1[:]\n",
        "\n",
        "# Modificação na lista\n",
        "lista2[0] = 5.0\n",
        "\n",
        "# Print lista1\n",
        "print(lista1)"
      ]
    }
  ],
  "metadata": {
    "colab": {
      "provenance": [],
      "include_colab_link": true
    },
    "kernelspec": {
      "display_name": "Python 3 (ipykernel)",
      "language": "python",
      "name": "python3"
    },
    "language_info": {
      "codemirror_mode": {
        "name": "ipython",
        "version": 3
      },
      "file_extension": ".py",
      "mimetype": "text/x-python",
      "name": "python",
      "nbconvert_exporter": "python",
      "pygments_lexer": "ipython3",
      "version": "3.11.5"
    }
  },
  "nbformat": 4,
  "nbformat_minor": 0
}